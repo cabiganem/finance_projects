{
 "cells": [
  {
   "cell_type": "markdown",
   "id": "0bc82b9f-6fd5-4ede-b448-8fa4923bcf03",
   "metadata": {},
   "source": [
    "# Realized Volatility"
   ]
  },
  {
   "cell_type": "markdown",
   "id": "7fa754ff-2f88-4d7e-bf13-2da75977ce2f",
   "metadata": {},
   "source": [
    "The objective of this notebook is to check if options are cheap or not by doing the following:\n",
    "\n",
    "- Get price data\n",
    "- Compute realized volatility\n",
    "- Build volatility cones of realized volatility\n",
    "- Use cones to determine if the current realized volatility is cheap\n"
   ]
  },
  {
   "cell_type": "markdown",
   "id": "29072c84-d358-4f2b-ac68-f1ef73475a9d",
   "metadata": {},
   "source": [
    "First, we install and import the yahoo finance `yfinance` package from where we will get the market data. We also import pandas, math, numpy and pyplot for the charts. "
   ]
  },
  {
   "cell_type": "code",
   "execution_count": 1,
   "id": "db549710-58c1-4913-b0dd-d5c77fd7257e",
   "metadata": {},
   "outputs": [
    {
     "name": "stdout",
     "output_type": "stream",
     "text": [
      "Collecting yfinance\n",
      "  Using cached yfinance-0.1.74-py2.py3-none-any.whl (27 kB)\n",
      "Collecting multitasking>=0.0.7\n",
      "  Using cached multitasking-0.0.11-py3-none-any.whl (8.5 kB)\n",
      "Requirement already satisfied: numpy>=1.15 in /Users/carlosabiganem/opt/anaconda3/envs/CalTechBC/lib/python3.9/site-packages (from yfinance) (1.23.1)\n",
      "Collecting lxml>=4.5.1\n",
      "  Downloading lxml-4.9.1-cp39-cp39-macosx_10_15_x86_64.whl (4.6 MB)\n",
      "\u001b[2K     \u001b[90m━━━━━━━━━━━━━━━━━━━━━━━━━━━━━━━━━━━━━━━━\u001b[0m \u001b[32m4.6/4.6 MB\u001b[0m \u001b[31m18.0 MB/s\u001b[0m eta \u001b[36m0:00:00\u001b[0m00:01\u001b[0m00:01\u001b[0m\n",
      "\u001b[?25hRequirement already satisfied: requests>=2.26 in /Users/carlosabiganem/opt/anaconda3/envs/CalTechBC/lib/python3.9/site-packages (from yfinance) (2.28.1)\n",
      "Requirement already satisfied: pandas>=0.24.0 in /Users/carlosabiganem/opt/anaconda3/envs/CalTechBC/lib/python3.9/site-packages (from yfinance) (1.4.3)\n",
      "Requirement already satisfied: python-dateutil>=2.8.1 in /Users/carlosabiganem/opt/anaconda3/envs/CalTechBC/lib/python3.9/site-packages (from pandas>=0.24.0->yfinance) (2.8.2)\n",
      "Requirement already satisfied: pytz>=2020.1 in /Users/carlosabiganem/opt/anaconda3/envs/CalTechBC/lib/python3.9/site-packages (from pandas>=0.24.0->yfinance) (2022.1)\n",
      "Requirement already satisfied: charset-normalizer<3,>=2 in /Users/carlosabiganem/opt/anaconda3/envs/CalTechBC/lib/python3.9/site-packages (from requests>=2.26->yfinance) (2.1.0)\n",
      "Requirement already satisfied: urllib3<1.27,>=1.21.1 in /Users/carlosabiganem/opt/anaconda3/envs/CalTechBC/lib/python3.9/site-packages (from requests>=2.26->yfinance) (1.26.11)\n",
      "Requirement already satisfied: idna<4,>=2.5 in /Users/carlosabiganem/opt/anaconda3/envs/CalTechBC/lib/python3.9/site-packages (from requests>=2.26->yfinance) (3.3)\n",
      "Requirement already satisfied: certifi>=2017.4.17 in /Users/carlosabiganem/opt/anaconda3/envs/CalTechBC/lib/python3.9/site-packages (from requests>=2.26->yfinance) (2022.6.15)\n",
      "Requirement already satisfied: six>=1.5 in /Users/carlosabiganem/opt/anaconda3/envs/CalTechBC/lib/python3.9/site-packages (from python-dateutil>=2.8.1->pandas>=0.24.0->yfinance) (1.16.0)\n",
      "Installing collected packages: multitasking, lxml, yfinance\n",
      "Successfully installed lxml-4.9.1 multitasking-0.0.11 yfinance-0.1.74\n"
     ]
    }
   ],
   "source": [
    "!pip install yfinance"
   ]
  },
  {
   "cell_type": "code",
   "execution_count": 10,
   "id": "930be77c-aa22-4e0d-a9eb-0f89ec2d4bd3",
   "metadata": {},
   "outputs": [],
   "source": [
    "import yfinance as yf\n",
    "import pandas as pd\n",
    "import numpy as np\n",
    "import math\n",
    "import matplotlib.pyplot as plt\n",
    "%matplotlib inline"
   ]
  },
  {
   "cell_type": "markdown",
   "id": "aa9a0571-40a4-4837-81e0-cf1de0c13591",
   "metadata": {},
   "source": [
    "Now we set up the variables to be used.\n",
    "\n",
    "Windows defines the number of days to use to compute volatility. quantiles defines the percentage of the top and bottom 25% of values.\n",
    "\n",
    "The last few lists are where we accumulate data to plot."
   ]
  },
  {
   "cell_type": "code",
   "execution_count": 3,
   "id": "046c4684-9f46-4d90-bcf9-bdedbc675d35",
   "metadata": {},
   "outputs": [],
   "source": [
    "windows = [30, 60, 90, 120]\n",
    "quantiles = [0.25, 0.75]\n",
    "max_ = []\n",
    "min_ = []\n",
    "top_q = []\n",
    "median = []\n",
    "bottom_q = []\n",
    "realized = []"
   ]
  },
  {
   "cell_type": "markdown",
   "id": "a6a093b0-5572-4121-bf51-0894767d326b",
   "metadata": {},
   "source": [
    "Next, we get the data.\n",
    "\n",
    "As an example, we will utilize the S&P 500 ETF, SPY. However, any stock and price range can be used."
   ]
  },
  {
   "cell_type": "code",
   "execution_count": 4,
   "id": "5cfea1c5-3298-43a6-8657-7932af6b0500",
   "metadata": {},
   "outputs": [
    {
     "name": "stdout",
     "output_type": "stream",
     "text": [
      "[*********************100%***********************]  1 of 1 completed\n"
     ]
    }
   ],
   "source": [
    "data = yf.download(\"SPY\", start='2021-09-14', end = '2022-09-14')"
   ]
  },
  {
   "cell_type": "code",
   "execution_count": 8,
   "id": "4a894e22-ea0b-4c7a-bdc7-8f715ccf99a8",
   "metadata": {},
   "outputs": [
    {
     "data": {
      "text/plain": [
       "pandas.core.frame.DataFrame"
      ]
     },
     "execution_count": 8,
     "metadata": {},
     "output_type": "execute_result"
    }
   ],
   "source": [
    "type(data)"
   ]
  },
  {
   "cell_type": "markdown",
   "id": "582decd8-260c-4e52-93bd-96578657c157",
   "metadata": {},
   "source": [
    "Now we compute the realized volatility.\n",
    "\n",
    "We use the standard deviation as a measure of volatility."
   ]
  },
  {
   "cell_type": "code",
   "execution_count": 7,
   "id": "d739e133-b6d9-4159-a342-780b972ab7e1",
   "metadata": {},
   "outputs": [],
   "source": [
    "def realized_vol(price_data, window=30):\n",
    "    \"\"\" Calculates the realized volatility of the log returns of \n",
    "    an asset using the close price with a default window of 30 days\"\"\"\n",
    "    \n",
    "    log_returns = (price_data['Close'] / price_data['Close'].shift(1)).apply(np.log)\n",
    "    \n",
    "    return log_returns.rolling(window=window, center=False).std() * math.sqrt(252)\n",
    "    "
   ]
  },
  {
   "cell_type": "markdown",
   "id": "d155d6e6-f15f-4f19-b031-a7632a689688",
   "metadata": {},
   "source": [
    "Next, we construct the cones by looping through each of the windows and compute realized volatility over each time frame."
   ]
  },
  {
   "cell_type": "code",
   "execution_count": 9,
   "id": "62126dad-8135-4d12-9ec1-f99d7c2bfbed",
   "metadata": {},
   "outputs": [],
   "source": [
    "for window in windows:\n",
    "    \n",
    "    estimator = realized_vol(price_data=data, window=window)\n",
    "    \n",
    "    max_.append(estimator.max())\n",
    "    min_.append(estimator.min())\n",
    "    top_q.append(estimator.quantile(quantiles[1]))\n",
    "    median.append(estimator.median())\n",
    "    bottom_q.append(estimator.quantile(quantiles[0]))\n",
    "    realized.append(estimator[-1])"
   ]
  },
  {
   "cell_type": "markdown",
   "id": "3773c7bd-66ad-479d-8ea0-87b3f1ed135d",
   "metadata": {},
   "source": [
    "Lastly, we plot the results, that is, the volatility cones.\n",
    "\n",
    "The y-axis is the realized volatility over each time frame. \n",
    "\n",
    "The x-axis is the time frame we use to compute the realized volatility."
   ]
  },
  {
   "cell_type": "code",
   "execution_count": 14,
   "id": "3149d7fd-5196-48f1-a337-8442f250b821",
   "metadata": {},
   "outputs": [
    {
     "data": {
      "text/plain": [
       "<matplotlib.legend.Legend at 0x7fa892a128b0>"
      ]
     },
     "execution_count": 14,
     "metadata": {},
     "output_type": "execute_result"
    },
    {
     "data": {
      "image/png": "[encoded data removed]",
      "text/plain": [
       "<Figure size 1008x432 with 1 Axes>"
      ]
     },
     "metadata": {
      "needs_background": "light"
     },
     "output_type": "display_data"
    }
   ],
   "source": [
    "plt.figure(figsize=(14, 6))\n",
    "\n",
    "plt.plot(windows, max_, '-o', linewidth=1, label='Max')\n",
    "plt.plot(windows, min_, '-o', linewidth=1, label='Min')\n",
    "plt.plot(windows, top_q, '-o', linewidth=1, label=f'{quantiles[1] * 100:.0f} Prctl')\n",
    "plt.plot(windows, median, '-o', linewidth=1, label='Median')\n",
    "plt.plot(windows, bottom_q, '-o', linewidth=1, label=f'{quantiles[0] * 100:.0f} Prctl')\n",
    "plt.plot(windows, realized, 'ro-.', linewidth=1, label='Realized')\n",
    "\n",
    "plt.xticks(windows)\n",
    "plt.legend(loc='upper center', bbox_to_anchor=(0.5, -0.1), ncol=3)"
   ]
  },
  {
   "cell_type": "markdown",
   "id": "abeda54b-bcc8-4714-9a17-f9fd470c4c19",
   "metadata": {},
   "source": [
    "There are three conclusions you can draw from the chart:\n",
    "\n",
    "Realized volatility:\n",
    "\n",
    "1. Spikes (corresponds to a drop in the stock price)\n",
    "2. Above the median and below 75 Prctl (might support a case to get short volatility)\n",
    "3. Diverging from its mean (supports a case to get long volatility)"
   ]
  },
  {
   "cell_type": "code",
   "execution_count": null,
   "id": "0a697a20-04a4-4276-8636-fdc848ccb838",
   "metadata": {},
   "outputs": [],
   "source": []
  }
 ],
 "metadata": {
  "kernelspec": {
   "display_name": "Python 3 (ipykernel)",
   "language": "python",
   "name": "python3"
  },
  "language_info": {
   "codemirror_mode": {
    "name": "ipython",
    "version": 3
   },
   "file_extension": ".py",
   "mimetype": "text/x-python",
   "name": "python",
   "nbconvert_exporter": "python",
   "pygments_lexer": "ipython3",
   "version": "3.9.12"
  }
 },
 "nbformat": 4,
 "nbformat_minor": 5
}
